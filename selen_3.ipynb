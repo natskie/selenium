{
 "cells": [
  {
   "cell_type": "code",
   "execution_count": 3,
   "metadata": {},
   "outputs": [],
   "source": [
    "def test_input_text(expected_result, actual_result):\n",
    "    assert expected_result==actual_result, print(f\"expected {expected_result}, got {actual_result}\")\n"
   ]
  },
  {
   "cell_type": "code",
   "execution_count": 5,
   "metadata": {},
   "outputs": [],
   "source": [
    "test_input_text(14,14)"
   ]
  },
  {
   "cell_type": "code",
   "execution_count": null,
   "metadata": {},
   "outputs": [],
   "source": [
    "def test_substring(full_string, substring):\n",
    "    assert substring in full_string, \"expected '\"+substring+\"' to be substring of '\"+full_string+\"'\"\n",
    "\n",
    "\n",
    "\n",
    "\n"
   ]
  }
 ],
 "metadata": {
  "interpreter": {
   "hash": "feda84ecf396bf8287e4d9a2812c32e18d14a2eff9f6d32ff67905a7f30ab9ad"
  },
  "kernelspec": {
   "display_name": "Python 3.9.7 64-bit ('selen': conda)",
   "name": "python3"
  },
  "language_info": {
   "codemirror_mode": {
    "name": "ipython",
    "version": 3
   },
   "file_extension": ".py",
   "mimetype": "text/x-python",
   "name": "python",
   "nbconvert_exporter": "python",
   "pygments_lexer": "ipython3",
   "version": "3.9.7"
  },
  "orig_nbformat": 4
 },
 "nbformat": 4,
 "nbformat_minor": 2
}
